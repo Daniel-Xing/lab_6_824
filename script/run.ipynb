{
 "cells": [
  {
   "cell_type": "code",
   "execution_count": 3,
   "id": "3308c9ca-5920-48e3-9d21-ed1c4f30c137",
   "metadata": {},
   "outputs": [],
   "source": [
    "import os"
   ]
  },
  {
   "cell_type": "code",
   "execution_count": 4,
   "id": "ee13b36e-d529-4869-b640-2675fc9085f7",
   "metadata": {},
   "outputs": [],
   "source": [
    "def run(cmd):\n",
    "    return os.popen(cmd).read()"
   ]
  },
  {
   "cell_type": "code",
   "execution_count": 6,
   "id": "deb8a501-b73f-4d0c-962a-fb471eb423ac",
   "metadata": {},
   "outputs": [],
   "source": [
    "cmd_preifx = \"cd ../src/raft && go test -run \"\n",
    "test_name = {}\n",
    "test_name[\"2A\"] = [\"TestInitialElection2A\", \"TestReElection2A\", \"TestManyElections2A\"]\n",
    "test_name[\"2B\"] = [\"TestBasicAgree2B\", \"TestRPCBytes2B\", \"TestFailAgree2B\", \"TestFailNoAgree2B\", \"TestConcurrentStarts2B\", \"TestRejoin2B\", \"TestBackuDPrintf\", \"TestCount2B\"]\n",
    "test_name[\"2C\"] = [\"TestPersist12C\", \"TestPersist22C\", \"TestPersist32C\", \"TestFigure82C\", \"TestUnreliableAgree2C\", \"TestFigure8Unreliable2C\", \"TestReliableChurn2C\", \"TestUnreliableChurn2C\"]\n",
    "test_name[\"2D\"] = [\"TestSnapshotBasic2D\", \"TestSnapshotInstall2D\", \"TestSnapshotInstallUnreliable2D\", \"TestSnapshotInstallCrash2D\", \"TestSnapshotInstallUnCrash2D\"]"
   ]
  },
  {
   "cell_type": "code",
   "execution_count": 7,
   "id": "3f1e7963-bbba-44df-b22a-b327d180ba93",
   "metadata": {},
   "outputs": [],
   "source": [
    "def savefile(content, filename):\n",
    "    with open(filename, \"w+\") as f:\n",
    "        f.write(content)\n",
    "\n",
    "def find_fail(task, times = 50):\n",
    "    failed = False\n",
    "    for t in range(times):\n",
    "        res = run(cmd_preifx + task)\n",
    "        passed = res.find(\"Passed\")\n",
    "        if passed == -1:\n",
    "            print(\"Find the bad case with %s after run %d times\"%(task, t))\n",
    "            savefile(res, task+\"_log_%d.txt\"%(t))\n",
    "            failed = True\n",
    "        if failed != True and (t+1) % 10 == 0:\n",
    "            print(\"No big deal after running %d times\"%(t+1))\n",
    "            \n",
    "    if failed is not True:\n",
    "        print(\"No Failed with %s after running times: %d!\"%(task, times))\n",
    "\n",
    "def find_fail_with_lab(labName, times = 50):\n",
    "    tasks = test_name[labName]\n",
    "    for task in tasks:\n",
    "        find_fail(task, times)"
   ]
  },
  {
   "cell_type": "code",
   "execution_count": 8,
   "id": "868b575d-cc43-42c5-9245-7affd158fce1",
   "metadata": {},
   "outputs": [
    {
     "name": "stdout",
     "output_type": "stream",
     "text": [
      "No big deal after running 10 times\n",
      "No big deal after running 20 times\n",
      "No big deal after running 30 times\n",
      "No big deal after running 40 times\n",
      "No big deal after running 50 times\n",
      "No big deal after running 60 times\n",
      "No big deal after running 70 times\n",
      "No big deal after running 80 times\n",
      "No big deal after running 90 times\n",
      "No big deal after running 100 times\n",
      "No Failed with TestInitialElection2A after running times: 100!\n",
      "No big deal after running 10 times\n",
      "No big deal after running 20 times\n",
      "No big deal after running 30 times\n",
      "No big deal after running 40 times\n",
      "No big deal after running 50 times\n",
      "No big deal after running 60 times\n",
      "No big deal after running 70 times\n",
      "No big deal after running 80 times\n",
      "No big deal after running 90 times\n",
      "No big deal after running 100 times\n",
      "No Failed with TestReElection2A after running times: 100!\n",
      "Find the bad case with TestManyElections2A after run 0 times\n"
     ]
    },
    {
     "ename": "KeyboardInterrupt",
     "evalue": "",
     "output_type": "error",
     "traceback": [
      "\u001b[0;31m---------------------------------------------------------------------------\u001b[0m",
      "\u001b[0;31mKeyboardInterrupt\u001b[0m                         Traceback (most recent call last)",
      "\u001b[0;32m<ipython-input-8-0a6cc8200631>\u001b[0m in \u001b[0;36m<module>\u001b[0;34m\u001b[0m\n\u001b[1;32m      1\u001b[0m \u001b[0mfind_fail_with_lab\u001b[0m\u001b[0;34m(\u001b[0m\u001b[0;34m\"2A\"\u001b[0m\u001b[0;34m,\u001b[0m \u001b[0;36m100\u001b[0m\u001b[0;34m)\u001b[0m\u001b[0;34m\u001b[0m\u001b[0;34m\u001b[0m\u001b[0m\n\u001b[0;32m----> 2\u001b[0;31m \u001b[0mfind_fail_with_lab\u001b[0m\u001b[0;34m(\u001b[0m\u001b[0;34m\"2B\"\u001b[0m\u001b[0;34m,\u001b[0m \u001b[0;36m100\u001b[0m\u001b[0;34m)\u001b[0m\u001b[0;34m\u001b[0m\u001b[0;34m\u001b[0m\u001b[0m\n\u001b[0m\u001b[1;32m      3\u001b[0m \u001b[0mfind_fail_with_lab\u001b[0m\u001b[0;34m(\u001b[0m\u001b[0;34m\"2C\"\u001b[0m\u001b[0;34m,\u001b[0m \u001b[0;36m100\u001b[0m\u001b[0;34m)\u001b[0m\u001b[0;34m\u001b[0m\u001b[0;34m\u001b[0m\u001b[0m\n\u001b[1;32m      4\u001b[0m \u001b[0mfind_fail_with_lab\u001b[0m\u001b[0;34m(\u001b[0m\u001b[0;34m\"2D\"\u001b[0m\u001b[0;34m,\u001b[0m \u001b[0;36m100\u001b[0m\u001b[0;34m)\u001b[0m\u001b[0;34m\u001b[0m\u001b[0;34m\u001b[0m\u001b[0m\n",
      "\u001b[0;32m<ipython-input-7-1e32c781fafa>\u001b[0m in \u001b[0;36mfind_fail_with_lab\u001b[0;34m(labName, times)\u001b[0m\n\u001b[1;32m     21\u001b[0m     \u001b[0mtasks\u001b[0m \u001b[0;34m=\u001b[0m \u001b[0mtest_name\u001b[0m\u001b[0;34m[\u001b[0m\u001b[0mlabName\u001b[0m\u001b[0;34m]\u001b[0m\u001b[0;34m\u001b[0m\u001b[0;34m\u001b[0m\u001b[0m\n\u001b[1;32m     22\u001b[0m     \u001b[0;32mfor\u001b[0m \u001b[0mtask\u001b[0m \u001b[0;32min\u001b[0m \u001b[0mtasks\u001b[0m\u001b[0;34m:\u001b[0m\u001b[0;34m\u001b[0m\u001b[0;34m\u001b[0m\u001b[0m\n\u001b[0;32m---> 23\u001b[0;31m         \u001b[0mfind_fail\u001b[0m\u001b[0;34m(\u001b[0m\u001b[0mtask\u001b[0m\u001b[0;34m,\u001b[0m \u001b[0mtimes\u001b[0m\u001b[0;34m)\u001b[0m\u001b[0;34m\u001b[0m\u001b[0;34m\u001b[0m\u001b[0m\n\u001b[0m",
      "\u001b[0;32m<ipython-input-7-1e32c781fafa>\u001b[0m in \u001b[0;36mfind_fail\u001b[0;34m(task, times)\u001b[0m\n\u001b[1;32m      6\u001b[0m     \u001b[0mfailed\u001b[0m \u001b[0;34m=\u001b[0m \u001b[0;32mFalse\u001b[0m\u001b[0;34m\u001b[0m\u001b[0;34m\u001b[0m\u001b[0m\n\u001b[1;32m      7\u001b[0m     \u001b[0;32mfor\u001b[0m \u001b[0mt\u001b[0m \u001b[0;32min\u001b[0m \u001b[0mrange\u001b[0m\u001b[0;34m(\u001b[0m\u001b[0mtimes\u001b[0m\u001b[0;34m)\u001b[0m\u001b[0;34m:\u001b[0m\u001b[0;34m\u001b[0m\u001b[0;34m\u001b[0m\u001b[0m\n\u001b[0;32m----> 8\u001b[0;31m         \u001b[0mres\u001b[0m \u001b[0;34m=\u001b[0m \u001b[0mrun\u001b[0m\u001b[0;34m(\u001b[0m\u001b[0mcmd_preifx\u001b[0m \u001b[0;34m+\u001b[0m \u001b[0mtask\u001b[0m\u001b[0;34m)\u001b[0m\u001b[0;34m\u001b[0m\u001b[0;34m\u001b[0m\u001b[0m\n\u001b[0m\u001b[1;32m      9\u001b[0m         \u001b[0mpassed\u001b[0m \u001b[0;34m=\u001b[0m \u001b[0mres\u001b[0m\u001b[0;34m.\u001b[0m\u001b[0mfind\u001b[0m\u001b[0;34m(\u001b[0m\u001b[0;34m\"Passed\"\u001b[0m\u001b[0;34m)\u001b[0m\u001b[0;34m\u001b[0m\u001b[0;34m\u001b[0m\u001b[0m\n\u001b[1;32m     10\u001b[0m         \u001b[0;32mif\u001b[0m \u001b[0mpassed\u001b[0m \u001b[0;34m==\u001b[0m \u001b[0;34m-\u001b[0m\u001b[0;36m1\u001b[0m\u001b[0;34m:\u001b[0m\u001b[0;34m\u001b[0m\u001b[0;34m\u001b[0m\u001b[0m\n",
      "\u001b[0;32m<ipython-input-4-1a6f92c51dac>\u001b[0m in \u001b[0;36mrun\u001b[0;34m(cmd)\u001b[0m\n\u001b[1;32m      1\u001b[0m \u001b[0;32mdef\u001b[0m \u001b[0mrun\u001b[0m\u001b[0;34m(\u001b[0m\u001b[0mcmd\u001b[0m\u001b[0;34m)\u001b[0m\u001b[0;34m:\u001b[0m\u001b[0;34m\u001b[0m\u001b[0;34m\u001b[0m\u001b[0m\n\u001b[0;32m----> 2\u001b[0;31m     \u001b[0;32mreturn\u001b[0m \u001b[0mos\u001b[0m\u001b[0;34m.\u001b[0m\u001b[0mpopen\u001b[0m\u001b[0;34m(\u001b[0m\u001b[0mcmd\u001b[0m\u001b[0;34m)\u001b[0m\u001b[0;34m.\u001b[0m\u001b[0mread\u001b[0m\u001b[0;34m(\u001b[0m\u001b[0;34m)\u001b[0m\u001b[0;34m\u001b[0m\u001b[0;34m\u001b[0m\u001b[0m\n\u001b[0m",
      "\u001b[0;31mKeyboardInterrupt\u001b[0m: "
     ]
    }
   ],
   "source": [
    "find_fail_with_lab(\"2A\", 100)\n",
    "find_fail_with_lab(\"2B\", 100)\n",
    "find_fail_with_lab(\"2C\", 100)\n",
    "find_fail_with_lab(\"2D\", 100)"
   ]
  },
  {
   "cell_type": "code",
   "execution_count": null,
   "id": "627218ca-85ac-489f-ba8b-0d6ec27fee67",
   "metadata": {},
   "outputs": [
    {
     "name": "stdout",
     "output_type": "stream",
     "text": [
      "No big deal after running 10 times\n",
      "No big deal after running 20 times\n"
     ]
    }
   ],
   "source": [
    "find_fail(\"TestManyElections2A\")"
   ]
  },
  {
   "cell_type": "code",
   "execution_count": null,
   "id": "aee0ad0f-f73c-4bfd-971b-d87e4064d6ee",
   "metadata": {},
   "outputs": [],
   "source": []
  }
 ],
 "metadata": {
  "kernelspec": {
   "display_name": "Python 3",
   "language": "python",
   "name": "python3"
  },
  "language_info": {
   "codemirror_mode": {
    "name": "ipython",
    "version": 3
   },
   "file_extension": ".py",
   "mimetype": "text/x-python",
   "name": "python",
   "nbconvert_exporter": "python",
   "pygments_lexer": "ipython3",
   "version": "3.8.8"
  }
 },
 "nbformat": 4,
 "nbformat_minor": 5
}
