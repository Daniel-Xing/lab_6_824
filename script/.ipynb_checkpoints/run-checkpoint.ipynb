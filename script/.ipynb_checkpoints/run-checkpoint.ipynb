{
 "cells": [
  {
   "cell_type": "code",
   "execution_count": 1,
   "id": "3308c9ca-5920-48e3-9d21-ed1c4f30c137",
   "metadata": {},
   "outputs": [],
   "source": [
    "import os"
   ]
  },
  {
   "cell_type": "code",
   "execution_count": 7,
   "id": "ee13b36e-d529-4869-b640-2675fc9085f7",
   "metadata": {},
   "outputs": [],
   "source": [
    "def run(cmd):\n",
    "    return os.popen(cmd).read()"
   ]
  },
  {
   "cell_type": "code",
   "execution_count": 9,
   "id": "44e7327c-0cba-4ec8-8924-1a441fca1520",
   "metadata": {},
   "outputs": [
    {
     "name": "stdout",
     "output_type": "stream",
     "text": [
      "Test (2A): initial election ...\n",
      "  ... Passed --   3.6  3  120   29122    0\n",
      "Test (2A): election after network failure ...\n",
      "  ... Passed --   6.3  3  136   26966    0\n",
      "Test (2A): multiple elections ...\n",
      "  ... Passed --   7.4  7  456   88334    0\n",
      "PASS\n",
      "ok  \t6.824/raft\t17.303s\n",
      "\n"
     ]
    }
   ],
   "source": [
    "print(run(\"cd ../src/raft && go test -run 2A\"))"
   ]
  },
  {
   "cell_type": "code",
   "execution_count": 16,
   "id": "deb8a501-b73f-4d0c-962a-fb471eb423ac",
   "metadata": {},
   "outputs": [],
   "source": [
    "cmd_preifx = \"cd ../src/raft && go test -run \"\n",
    "test_name = {}\n",
    "test_name[\"2A\"] = [\"TestInitialElection2A\", \"TestReElection2A\", \"TestManyElections2A\"]\n",
    "test_name[\"2B\"] = [\"TestBasicAgree2B\", \"TestRPCBytes2B\", \"TestFailAgree2B\", \"TestFailNoAgree2B\", \"TestConcurrentStarts2B\", \"TestRejoin2B\", \"TestBackuDPrintf\", \"TestCount2B\"]\n",
    "test_name[\"2C\"] = [\"TestPersist12C\", \"TestPersist22C\", \"TestPersist32C\", \"TestFigure82C\", \"TestUnreliableAgree2C\", \"TestFigure8Unreliable2C\", \"TestReliableChurn2C\", \"TestUnreliableChurn2C\"]\n",
    "test_name[\"2D\"] = [\"TestSnapshotBasic2D\", \"TestSnapshotInstall2D\", \"TestSnapshotInstallUnreliable2D\", \"TestSnapshotInstallCrash2D\", \"TestSnapshotInstallUnCrash2D\"]"
   ]
  },
  {
   "cell_type": "code",
   "execution_count": 74,
   "id": "3f1e7963-bbba-44df-b22a-b327d180ba93",
   "metadata": {},
   "outputs": [],
   "source": [
    "def savefile(content, filename):\n",
    "    with open(filename, \"w+\") as f:\n",
    "        f.write(content)\n",
    "\n",
    "def find_fail(task, times = 50):\n",
    "    failed = False\n",
    "    for t in range(times):\n",
    "        res = run(cmd_preifx + task)\n",
    "        passed = res.find(\"Passed\")\n",
    "        if passed == -1:\n",
    "            print(\"Find the bad case with %s after run %d times\"%(task, t))\n",
    "            savefile(res, task+\"_log_%d.txt\"%(t))\n",
    "            failed = True\n",
    "        if failed != True and (t+1) % 10 == 0:\n",
    "            print(\"No big deal after running %d times\"%(t+1))\n",
    "            \n",
    "    if failed is not True:\n",
    "        print(\"No Failed with %s after running times: %d!\"%(task, times))\n",
    "\n",
    "def find_fail_with_lab(labName):\n",
    "    tasks = test_name[labName]\n",
    "    for task in tasks:\n",
    "        find_fail(task)"
   ]
  },
  {
   "cell_type": "code",
   "execution_count": null,
   "id": "868b575d-cc43-42c5-9245-7affd158fce1",
   "metadata": {},
   "outputs": [
    {
     "name": "stdout",
     "output_type": "stream",
     "text": [
      "No Failed with TestInitialElection2A after running times: 50!\n"
     ]
    }
   ],
   "source": [
    "find_fail_with_lab(\"2A\")\n",
    "find_fail_with_lab(\"2B\")\n",
    "find_fail_with_lab(\"2C\")\n",
    "find_fail_with_lab(\"2D\")"
   ]
  },
  {
   "cell_type": "code",
   "execution_count": null,
   "id": "a89ff23c-17e7-4f0e-80ae-bc34e6f39212",
   "metadata": {},
   "outputs": [],
   "source": [
    "find_fail_with_lab(\"2B\")"
   ]
  },
  {
   "cell_type": "code",
   "execution_count": 70,
   "id": "92c2519b-33fa-45cc-9204-3aa7be81acb5",
   "metadata": {},
   "outputs": [
    {
     "name": "stdout",
     "output_type": "stream",
     "text": [
      "Find the bad case with TestManyElections2A after run 15 times\n",
      "Find the bad case with TestManyElections2A after run 16 times\n",
      "Find the bad case with TestManyElections2A after run 17 times\n",
      "Find the bad case with TestManyElections2A after run 18 times\n",
      "Find the bad case with TestManyElections2A after run 19 times\n",
      "Find the bad case with TestManyElections2A after run 20 times\n",
      "Find the bad case with TestManyElections2A after run 21 times\n",
      "Find the bad case with TestManyElections2A after run 22 times\n",
      "Find the bad case with TestManyElections2A after run 23 times\n",
      "Find the bad case with TestManyElections2A after run 24 times\n",
      "Find the bad case with TestManyElections2A after run 25 times\n",
      "Find the bad case with TestManyElections2A after run 26 times\n",
      "Find the bad case with TestManyElections2A after run 27 times\n",
      "Find the bad case with TestManyElections2A after run 28 times\n",
      "Find the bad case with TestManyElections2A after run 29 times\n",
      "Find the bad case with TestManyElections2A after run 30 times\n",
      "Find the bad case with TestManyElections2A after run 31 times\n",
      "Find the bad case with TestManyElections2A after run 32 times\n",
      "Find the bad case with TestManyElections2A after run 33 times\n",
      "Find the bad case with TestManyElections2A after run 34 times\n",
      "Find the bad case with TestManyElections2A after run 35 times\n",
      "Find the bad case with TestManyElections2A after run 36 times\n",
      "Find the bad case with TestManyElections2A after run 37 times\n",
      "Find the bad case with TestManyElections2A after run 38 times\n",
      "Find the bad case with TestManyElections2A after run 39 times\n",
      "Find the bad case with TestManyElections2A after run 40 times\n",
      "Find the bad case with TestManyElections2A after run 41 times\n",
      "Find the bad case with TestManyElections2A after run 42 times\n",
      "Find the bad case with TestManyElections2A after run 43 times\n",
      "Find the bad case with TestManyElections2A after run 44 times\n",
      "Find the bad case with TestManyElections2A after run 45 times\n",
      "Find the bad case with TestManyElections2A after run 46 times\n",
      "Find the bad case with TestManyElections2A after run 47 times\n",
      "Find the bad case with TestManyElections2A after run 48 times\n",
      "Find the bad case with TestManyElections2A after run 49 times\n"
     ]
    }
   ],
   "source": [
    "find_fail(\"TestManyElections2A\")"
   ]
  },
  {
   "cell_type": "code",
   "execution_count": null,
   "id": "54b8e177-24f9-4c98-9272-656bb938ce2d",
   "metadata": {},
   "outputs": [],
   "source": [
    "find_fail_with_lab(\"2C\")"
   ]
  },
  {
   "cell_type": "code",
   "execution_count": 62,
   "id": "7e033101-cfbc-4166-99c3-6093656a7956",
   "metadata": {},
   "outputs": [
    {
     "name": "stdout",
     "output_type": "stream",
     "text": [
      "No Failed with TestSnapshotBasic2D after running times: 10!\n"
     ]
    },
    {
     "ename": "KeyboardInterrupt",
     "evalue": "",
     "output_type": "error",
     "traceback": [
      "\u001b[0;31m---------------------------------------------------------------------------\u001b[0m",
      "\u001b[0;31mKeyboardInterrupt\u001b[0m                         Traceback (most recent call last)",
      "\u001b[0;32m<ipython-input-62-c88ba7ba7499>\u001b[0m in \u001b[0;36m<module>\u001b[0;34m\u001b[0m\n\u001b[0;32m----> 1\u001b[0;31m \u001b[0mfind_fail_with_lab\u001b[0m\u001b[0;34m(\u001b[0m\u001b[0;34m\"2D\"\u001b[0m\u001b[0;34m)\u001b[0m\u001b[0;34m\u001b[0m\u001b[0;34m\u001b[0m\u001b[0m\n\u001b[0m",
      "\u001b[0;32m<ipython-input-48-cfbcd7d2a2a5>\u001b[0m in \u001b[0;36mfind_fail_with_lab\u001b[0;34m(labName)\u001b[0m\n\u001b[1;32m     17\u001b[0m     \u001b[0mtasks\u001b[0m \u001b[0;34m=\u001b[0m \u001b[0mtest_name\u001b[0m\u001b[0;34m[\u001b[0m\u001b[0mlabName\u001b[0m\u001b[0;34m]\u001b[0m\u001b[0;34m\u001b[0m\u001b[0;34m\u001b[0m\u001b[0m\n\u001b[1;32m     18\u001b[0m     \u001b[0;32mfor\u001b[0m \u001b[0mtask\u001b[0m \u001b[0;32min\u001b[0m \u001b[0mtasks\u001b[0m\u001b[0;34m:\u001b[0m\u001b[0;34m\u001b[0m\u001b[0;34m\u001b[0m\u001b[0m\n\u001b[0;32m---> 19\u001b[0;31m         \u001b[0mfind_fail\u001b[0m\u001b[0;34m(\u001b[0m\u001b[0mtask\u001b[0m\u001b[0;34m)\u001b[0m\u001b[0;34m\u001b[0m\u001b[0;34m\u001b[0m\u001b[0m\n\u001b[0m",
      "\u001b[0;32m<ipython-input-48-cfbcd7d2a2a5>\u001b[0m in \u001b[0;36mfind_fail\u001b[0;34m(task, times)\u001b[0m\n\u001b[1;32m      5\u001b[0m \u001b[0;32mdef\u001b[0m \u001b[0mfind_fail\u001b[0m\u001b[0;34m(\u001b[0m\u001b[0mtask\u001b[0m\u001b[0;34m,\u001b[0m \u001b[0mtimes\u001b[0m \u001b[0;34m=\u001b[0m \u001b[0;36m10\u001b[0m\u001b[0;34m)\u001b[0m\u001b[0;34m:\u001b[0m\u001b[0;34m\u001b[0m\u001b[0;34m\u001b[0m\u001b[0m\n\u001b[1;32m      6\u001b[0m     \u001b[0;32mfor\u001b[0m \u001b[0mt\u001b[0m \u001b[0;32min\u001b[0m \u001b[0mrange\u001b[0m\u001b[0;34m(\u001b[0m\u001b[0mtimes\u001b[0m\u001b[0;34m)\u001b[0m\u001b[0;34m:\u001b[0m\u001b[0;34m\u001b[0m\u001b[0;34m\u001b[0m\u001b[0m\n\u001b[0;32m----> 7\u001b[0;31m         \u001b[0mres\u001b[0m \u001b[0;34m=\u001b[0m \u001b[0mrun\u001b[0m\u001b[0;34m(\u001b[0m\u001b[0mcmd_preifx\u001b[0m \u001b[0;34m+\u001b[0m \u001b[0mtask\u001b[0m\u001b[0;34m)\u001b[0m\u001b[0;34m\u001b[0m\u001b[0;34m\u001b[0m\u001b[0m\n\u001b[0m\u001b[1;32m      8\u001b[0m         \u001b[0mpassed\u001b[0m \u001b[0;34m=\u001b[0m \u001b[0mres\u001b[0m\u001b[0;34m.\u001b[0m\u001b[0mfind\u001b[0m\u001b[0;34m(\u001b[0m\u001b[0;34m\"Passed\"\u001b[0m\u001b[0;34m)\u001b[0m\u001b[0;34m\u001b[0m\u001b[0;34m\u001b[0m\u001b[0m\n\u001b[1;32m      9\u001b[0m         \u001b[0;32mif\u001b[0m \u001b[0mpassed\u001b[0m \u001b[0;34m==\u001b[0m \u001b[0;34m-\u001b[0m\u001b[0;36m1\u001b[0m\u001b[0;34m:\u001b[0m\u001b[0;34m\u001b[0m\u001b[0;34m\u001b[0m\u001b[0m\n",
      "\u001b[0;32m<ipython-input-7-1a6f92c51dac>\u001b[0m in \u001b[0;36mrun\u001b[0;34m(cmd)\u001b[0m\n\u001b[1;32m      1\u001b[0m \u001b[0;32mdef\u001b[0m \u001b[0mrun\u001b[0m\u001b[0;34m(\u001b[0m\u001b[0mcmd\u001b[0m\u001b[0;34m)\u001b[0m\u001b[0;34m:\u001b[0m\u001b[0;34m\u001b[0m\u001b[0;34m\u001b[0m\u001b[0m\n\u001b[0;32m----> 2\u001b[0;31m     \u001b[0;32mreturn\u001b[0m \u001b[0mos\u001b[0m\u001b[0;34m.\u001b[0m\u001b[0mpopen\u001b[0m\u001b[0;34m(\u001b[0m\u001b[0mcmd\u001b[0m\u001b[0;34m)\u001b[0m\u001b[0;34m.\u001b[0m\u001b[0mread\u001b[0m\u001b[0;34m(\u001b[0m\u001b[0;34m)\u001b[0m\u001b[0;34m\u001b[0m\u001b[0;34m\u001b[0m\u001b[0m\n\u001b[0m",
      "\u001b[0;31mKeyboardInterrupt\u001b[0m: "
     ]
    }
   ],
   "source": [
    "find_fail_with_lab(\"2D\")"
   ]
  },
  {
   "cell_type": "code",
   "execution_count": null,
   "id": "7acdc847-a801-4563-a1f6-01d98bf4abce",
   "metadata": {},
   "outputs": [],
   "source": []
  }
 ],
 "metadata": {
  "kernelspec": {
   "display_name": "Python 3",
   "language": "python",
   "name": "python3"
  },
  "language_info": {
   "codemirror_mode": {
    "name": "ipython",
    "version": 3
   },
   "file_extension": ".py",
   "mimetype": "text/x-python",
   "name": "python",
   "nbconvert_exporter": "python",
   "pygments_lexer": "ipython3",
   "version": "3.8.8"
  }
 },
 "nbformat": 4,
 "nbformat_minor": 5
}
