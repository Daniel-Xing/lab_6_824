{
 "cells": [
  {
   "cell_type": "code",
   "execution_count": 3,
   "id": "3308c9ca-5920-48e3-9d21-ed1c4f30c137",
   "metadata": {},
   "outputs": [],
   "source": [
    "import os"
   ]
  },
  {
   "cell_type": "code",
   "execution_count": 4,
   "id": "ee13b36e-d529-4869-b640-2675fc9085f7",
   "metadata": {},
   "outputs": [],
   "source": [
    "def run(cmd):\n",
    "    return os.popen(cmd).read()"
   ]
  },
  {
   "cell_type": "code",
   "execution_count": 6,
   "id": "deb8a501-b73f-4d0c-962a-fb471eb423ac",
   "metadata": {},
   "outputs": [],
   "source": [
    "cmd_preifx = \"cd ../src/raft && go test -run \"\n",
    "test_name = {}\n",
    "test_name[\"2A\"] = [\"TestInitialElection2A\", \"TestReElection2A\", \"TestManyElections2A\"]\n",
    "test_name[\"2B\"] = [\"TestBasicAgree2B\", \"TestRPCBytes2B\", \"TestFailAgree2B\", \"TestFailNoAgree2B\", \"TestConcurrentStarts2B\", \"TestRejoin2B\", \"TestBackuDPrintf\", \"TestCount2B\"]\n",
    "test_name[\"2C\"] = [\"TestPersist12C\", \"TestPersist22C\", \"TestPersist32C\", \"TestFigure82C\", \"TestUnreliableAgree2C\", \"TestFigure8Unreliable2C\", \"TestReliableChurn2C\", \"TestUnreliableChurn2C\"]\n",
    "test_name[\"2D\"] = [\"TestSnapshotBasic2D\", \"TestSnapshotInstall2D\", \"TestSnapshotInstallUnreliable2D\", \"TestSnapshotInstallCrash2D\", \"TestSnapshotInstallUnCrash2D\"]"
   ]
  },
  {
   "cell_type": "code",
   "execution_count": 26,
   "id": "3f1e7963-bbba-44df-b22a-b327d180ba93",
   "metadata": {},
   "outputs": [],
   "source": [
    "def savefile(content, filename):\n",
    "    with open(filename, \"w+\") as f:\n",
    "        f.write(content)\n",
    "\n",
    "def find_fail(task, times = 50, print_log = False):\n",
    "    failed = False\n",
    "    for t in range(times):\n",
    "        res = run(cmd_preifx + task)\n",
    "        passed = res.find(\"Passed\")\n",
    "        if passed == -1:\n",
    "            print(\"Find the bad case with %s after run %d times\"%(task, t))\n",
    "            savefile(res, task+\"_log_%d.txt\"%(t))\n",
    "            failed = True\n",
    "            return\n",
    "        if print_log and failed != True and (t+1) % 1 == 0:\n",
    "            print(\"No big deal after running %d times\"%(t+1))\n",
    "            \n",
    "    if failed is not True:\n",
    "        print(\"No Failed with %s after running times: %d!\"%(task, times))\n",
    "\n",
    "def find_fail_with_lab(labName, times = 50, print_log = False):\n",
    "    \n",
    "    \n",
    "    tasks = test_name[labName]\n",
    "    for task in tasks:\n",
    "        find_fail(task, times, print_log)"
   ]
  },
  {
   "cell_type": "code",
   "execution_count": null,
   "id": "868b575d-cc43-42c5-9245-7affd158fce1",
   "metadata": {},
   "outputs": [
    {
     "name": "stdout",
     "output_type": "stream",
     "text": [
      "No Failed with TestSnapshotBasic2D after running times: 2!\n"
     ]
    }
   ],
   "source": [
    "# find_fail_with_lab(\"2A\", 100)\n",
    "# find_fail_with_lab(\"2B\", 100)\n",
    "# find_fail_with_lab(\"2C\", 100)\n",
    "find_fail_with_lab(\"2D\", 2)"
   ]
  },
  {
   "cell_type": "code",
   "execution_count": null,
   "id": "aee0ad0f-f73c-4bfd-971b-d87e4064d6ee",
   "metadata": {},
   "outputs": [],
   "source": []
  }
 ],
 "metadata": {
  "kernelspec": {
   "display_name": "Python 3",
   "language": "python",
   "name": "python3"
  },
  "language_info": {
   "codemirror_mode": {
    "name": "ipython",
    "version": 3
   },
   "file_extension": ".py",
   "mimetype": "text/x-python",
   "name": "python",
   "nbconvert_exporter": "python",
   "pygments_lexer": "ipython3",
   "version": "3.8.8"
  }
 },
 "nbformat": 4,
 "nbformat_minor": 5
}
